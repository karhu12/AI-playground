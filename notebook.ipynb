{
 "cells": [
  {
   "cell_type": "markdown",
   "metadata": {},
   "source": [
    "# AI learning notebook\n",
    "\n",
    "This notebook is used to track different topics about learning AI.\n"
   ]
  },
  {
   "cell_type": "markdown",
   "metadata": {},
   "source": [
    "# Ollama\n",
    "\n",
    "Ollama is an open source system to run large language models locally made by Meta.\n",
    "\n",
    "Running LLM locally can be done by running ```ollama run <llm name>``` and we use llama3.2 for this example.\n",
    "\n",
    "## Running llama3.2 from python using 'ollama-python'\n",
    "\n",
    "I installed Ollama and started up instance of llama3.2 with ```ollama run llama3.2```.\n",
    "There seems to be an python library provided by Meta https://github.com/ollama/ollama-python which can be used to integrate LLMs running on ollama with python.\n",
    "It can be installed with ```pip install ollama``` and used as follows:"
   ]
  },
  {
   "cell_type": "code",
   "execution_count": 1,
   "metadata": {},
   "outputs": [
    {
     "name": "stdout",
     "output_type": "stream",
     "text": [
      "In the Wheel of Time series by Robert Jordan, the \"Dragon Reborn\" is known as Rand al'Thor. He is the prophesied savior who will face the Dark One and bring an end to the Last Battle. Throughout the series, Rand's identity as the Dragon Reborn is a central plot point, driving much of the story and the actions of many characters.\n"
     ]
    }
   ],
   "source": [
    "from ollama import chat\n",
    "from ollama import ChatResponse\n",
    "\n",
    "response: ChatResponse = chat(model=\"llama3.2\", messages=[\n",
    "    {\n",
    "        \"role\": \"user\",\n",
    "        \"content\": \"What is the 'Dragon reborn' called in the book series 'Wheel of time'?\",\n",
    "    }\n",
    "])\n",
    "print(response.message.content)"
   ]
  }
 ],
 "metadata": {
  "kernelspec": {
   "display_name": "venv",
   "language": "python",
   "name": "python3"
  },
  "language_info": {
   "codemirror_mode": {
    "name": "ipython",
    "version": 3
   },
   "file_extension": ".py",
   "mimetype": "text/x-python",
   "name": "python",
   "nbconvert_exporter": "python",
   "pygments_lexer": "ipython3",
   "version": "3.12.2"
  }
 },
 "nbformat": 4,
 "nbformat_minor": 2
}
