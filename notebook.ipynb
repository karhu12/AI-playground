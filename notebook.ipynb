{
 "cells": [
  {
   "cell_type": "markdown",
   "metadata": {},
   "source": [
    "# AI learning notebook\n",
    "\n",
    "This notebook is used to track different topics about learning AI.\n"
   ]
  },
  {
   "cell_type": "markdown",
   "metadata": {},
   "source": [
    "# Ollama\n",
    "\n",
    "Ollama is an open source system to run large language models locally made by Meta.\n",
    "\n",
    "Running LLM locally can be done by running ```ollama run <llm name>``` and we use llama3.2 for this example.\n",
    "\n",
    "## Running llama3.2 from python using 'ollama-python'\n",
    "\n",
    "I installed Ollama and started up instance of llama3.2 with ```ollama run llama3.2```.\n",
    "There seems to be an python library provided by Meta https://github.com/ollama/ollama-python which can be used to integrate LLMs running on ollama with python.\n",
    "It can be installed with ```pip install ollama``` and used as follows:"
   ]
  },
  {
   "cell_type": "code",
   "execution_count": 1,
   "metadata": {},
   "outputs": [
    {
     "name": "stdout",
     "output_type": "stream",
     "text": [
      "In the Wheel of Time series by Robert Jordan, the \"Dragon Reborn\" is known as Rand al'Thor. He is the prophesied savior who will face the Dark One and bring an end to the Last Battle. Throughout the series, Rand's identity as the Dragon Reborn is a central plot point, driving much of the story and the actions of many characters.\n"
     ]
    }
   ],
   "source": [
    "from ollama import chat\n",
    "from ollama import ChatResponse\n",
    "\n",
    "response: ChatResponse = chat(model=\"llama3.2\", messages=[\n",
    "    {\n",
    "        \"role\": \"user\",\n",
    "        \"content\": \"What is the 'Dragon reborn' called in the book series 'Wheel of time'?\",\n",
    "    }\n",
    "])\n",
    "print(response.message.content)"
   ]
  },
  {
   "cell_type": "markdown",
   "metadata": {},
   "source": [
    "# Running llama3.2 with OpenAI python API\n",
    "\n",
    "Local ollama LLMs can also be used through OpenAI python API (https://github.com/openai/openai-python).\n",
    "It can be installed with ```pip install openai``` and here is a blog post describing it's usage with ollama https://ollama.com/blog/openai-compatibility."
   ]
  },
  {
   "cell_type": "code",
   "execution_count": 4,
   "metadata": {},
   "outputs": [
    {
     "name": "stdout",
     "output_type": "stream",
     "text": [
      "Escape from Tarkov (EFT) is a survival video game developed by Battlestate Games, released in 2017. It's a first-person shooter with RPG elements, set in the fictional city of Tarkov, which is based on Russian military bases and urban warfare concepts.\n",
      "\n",
      "Gameplay revolves around scavenging for resources, equipment, and valuables in a post-apocalyptic environment, while navigating through the dangers of the game world. Players can choose to play as either Exfil or Scav types:\n",
      "\n",
      "1. **Exfil** (Escape): Players aim to collect gear and items without harming other players or the enemies in Tarkov.\n",
      "2. **Scav**: Enemies who are looking for resources, wealth, and other valuable assets.\n",
      "\n",
      "The game's key features include:\n",
      "\n",
      "- Dynamic weather and time cycles\n",
      "- Realistic ballistics and damage modeling\n",
      "- Immersive atmosphere with a strong focus on survival mechanics\n",
      "- Detailed realism and attention to detail in environment, gameplay, and NPC behaviors\n",
      "\n",
      "To survive in EFT, players need to carefully manage their inventory, find and craft items, locate useful drops, avoid hostile encounters, and strategically position themselves for optimal visibility.\n",
      "\n",
      "Escape from Tarkov has gained a massive following and reputation among gamers due to its:\n",
      "\n",
      "- Immersive atmosphere\n",
      "- High level of replayability through procedurally generated maps, gear, and enemy spawn systems.\n",
      "- Complex gameplay mechanics\n",
      "\n",
      "However, the game also has some criticisms for being:\n",
      "\n",
      "- Highly competitive with many experienced players and a steep learning curve\n",
      "- Steep difficulty spike as you progress through missions and encounter stronger enemy groups.\n",
      "- Known for having poor community management resources.\n",
      "\n",
      "Overall, Escape from Tarkov is an action-packed survival experience that appeals to those interested in realistic first-person shooters and tactical gameplay.\n"
     ]
    }
   ],
   "source": [
    "from openai import OpenAI\n",
    "\n",
    "client = OpenAI(\n",
    "    base_url = \"http://localhost:11434/v1\",\n",
    "    api_key=\"ollama\", # required, but unused due to being run from local API\n",
    ")\n",
    "\n",
    "response = client.chat.completions.create(\n",
    "    model=\"llama3.2\",\n",
    "    messages=[\n",
    "        {\"role\": \"system\", \"content\": \"You are a helpful assistant.\"},\n",
    "        {\"role\": \"user\", \"content\": \"What is Escape from tarkov?\"},\n",
    "    ]\n",
    ")\n",
    "\n",
    "print(response.choices[0].message.content)"
   ]
  }
 ],
 "metadata": {
  "kernelspec": {
   "display_name": "venv",
   "language": "python",
   "name": "python3"
  },
  "language_info": {
   "codemirror_mode": {
    "name": "ipython",
    "version": 3
   },
   "file_extension": ".py",
   "mimetype": "text/x-python",
   "name": "python",
   "nbconvert_exporter": "python",
   "pygments_lexer": "ipython3",
   "version": "3.12.2"
  }
 },
 "nbformat": 4,
 "nbformat_minor": 2
}
